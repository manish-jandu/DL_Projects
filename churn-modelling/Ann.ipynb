{
  "nbformat": 4,
  "nbformat_minor": 0,
  "metadata": {
    "colab": {
      "name": "Untitled0.ipynb",
      "provenance": [],
      "mount_file_id": "1o-hRWocB78asIy6dySmG0UNEeY-5RkRC",
      "authorship_tag": "ABX9TyNrwMVDJ2ttlEVLhYK/Y+KP",
      "include_colab_link": true
    },
    "kernelspec": {
      "name": "python3",
      "display_name": "Python 3"
    },
    "accelerator": "GPU"
  },
  "cells": [
    {
      "cell_type": "markdown",
      "metadata": {
        "id": "view-in-github",
        "colab_type": "text"
      },
      "source": [
        "<a href=\"https://colab.research.google.com/github/manish-jandu/DL_Projects/blob/master/churn-modelling/Ann.ipynb\" target=\"_parent\"><img src=\"https://colab.research.google.com/assets/colab-badge.svg\" alt=\"Open In Colab\"/></a>"
      ]
    },
    {
      "cell_type": "code",
      "metadata": {
        "id": "0u0gPAiDDPYX",
        "colab_type": "code",
        "colab": {
          "base_uri": "https://localhost:8080/",
          "height": 34
        },
        "outputId": "6c62e971-b16a-44b7-e5ff-f0f1c85d3b8a"
      },
      "source": [
        "from google.colab import drive\n",
        "drive.mount('/content/drive')"
      ],
      "execution_count": null,
      "outputs": [
        {
          "output_type": "stream",
          "text": [
            "Drive already mounted at /content/drive; to attempt to forcibly remount, call drive.mount(\"/content/drive\", force_remount=True).\n"
          ],
          "name": "stdout"
        }
      ]
    },
    {
      "cell_type": "code",
      "metadata": {
        "id": "c3Sk_JeiGCAY",
        "colab_type": "code",
        "colab": {}
      },
      "source": [
        "import numpy as np\n",
        "import matplotlib.pyplot as plt\n",
        "import pandas as pd\n"
      ],
      "execution_count": null,
      "outputs": []
    },
    {
      "cell_type": "code",
      "metadata": {
        "id": "chFCU24gH1Bv",
        "colab_type": "code",
        "colab": {}
      },
      "source": [
        "# Importing the dataset\n",
        "dataset = pd.read_csv('/content/drive/My Drive/Colab Notebooks/ANN/Churn_Modelling.csv')"
      ],
      "execution_count": null,
      "outputs": []
    },
    {
      "cell_type": "code",
      "metadata": {
        "id": "SxHpW0fHmEIV",
        "colab_type": "code",
        "colab": {}
      },
      "source": [
        ""
      ],
      "execution_count": null,
      "outputs": []
    },
    {
      "cell_type": "code",
      "metadata": {
        "id": "igKeSHewH1Fy",
        "colab_type": "code",
        "colab": {
          "base_uri": "https://localhost:8080/",
          "height": 221
        },
        "outputId": "78a85155-42a8-4a8c-8079-cbb4de2d02c7"
      },
      "source": [
        "dataset.head()"
      ],
      "execution_count": null,
      "outputs": [
        {
          "output_type": "execute_result",
          "data": {
            "text/html": [
              "<div>\n",
              "<style scoped>\n",
              "    .dataframe tbody tr th:only-of-type {\n",
              "        vertical-align: middle;\n",
              "    }\n",
              "\n",
              "    .dataframe tbody tr th {\n",
              "        vertical-align: top;\n",
              "    }\n",
              "\n",
              "    .dataframe thead th {\n",
              "        text-align: right;\n",
              "    }\n",
              "</style>\n",
              "<table border=\"1\" class=\"dataframe\">\n",
              "  <thead>\n",
              "    <tr style=\"text-align: right;\">\n",
              "      <th></th>\n",
              "      <th>RowNumber</th>\n",
              "      <th>CustomerId</th>\n",
              "      <th>Surname</th>\n",
              "      <th>CreditScore</th>\n",
              "      <th>Geography</th>\n",
              "      <th>Gender</th>\n",
              "      <th>Age</th>\n",
              "      <th>Tenure</th>\n",
              "      <th>Balance</th>\n",
              "      <th>NumOfProducts</th>\n",
              "      <th>HasCrCard</th>\n",
              "      <th>IsActiveMember</th>\n",
              "      <th>EstimatedSalary</th>\n",
              "      <th>Exited</th>\n",
              "    </tr>\n",
              "  </thead>\n",
              "  <tbody>\n",
              "    <tr>\n",
              "      <th>0</th>\n",
              "      <td>1</td>\n",
              "      <td>15634602</td>\n",
              "      <td>Hargrave</td>\n",
              "      <td>619</td>\n",
              "      <td>France</td>\n",
              "      <td>Female</td>\n",
              "      <td>42</td>\n",
              "      <td>2</td>\n",
              "      <td>0.00</td>\n",
              "      <td>1</td>\n",
              "      <td>1</td>\n",
              "      <td>1</td>\n",
              "      <td>101348.88</td>\n",
              "      <td>1</td>\n",
              "    </tr>\n",
              "    <tr>\n",
              "      <th>1</th>\n",
              "      <td>2</td>\n",
              "      <td>15647311</td>\n",
              "      <td>Hill</td>\n",
              "      <td>608</td>\n",
              "      <td>Spain</td>\n",
              "      <td>Female</td>\n",
              "      <td>41</td>\n",
              "      <td>1</td>\n",
              "      <td>83807.86</td>\n",
              "      <td>1</td>\n",
              "      <td>0</td>\n",
              "      <td>1</td>\n",
              "      <td>112542.58</td>\n",
              "      <td>0</td>\n",
              "    </tr>\n",
              "    <tr>\n",
              "      <th>2</th>\n",
              "      <td>3</td>\n",
              "      <td>15619304</td>\n",
              "      <td>Onio</td>\n",
              "      <td>502</td>\n",
              "      <td>France</td>\n",
              "      <td>Female</td>\n",
              "      <td>42</td>\n",
              "      <td>8</td>\n",
              "      <td>159660.80</td>\n",
              "      <td>3</td>\n",
              "      <td>1</td>\n",
              "      <td>0</td>\n",
              "      <td>113931.57</td>\n",
              "      <td>1</td>\n",
              "    </tr>\n",
              "    <tr>\n",
              "      <th>3</th>\n",
              "      <td>4</td>\n",
              "      <td>15701354</td>\n",
              "      <td>Boni</td>\n",
              "      <td>699</td>\n",
              "      <td>France</td>\n",
              "      <td>Female</td>\n",
              "      <td>39</td>\n",
              "      <td>1</td>\n",
              "      <td>0.00</td>\n",
              "      <td>2</td>\n",
              "      <td>0</td>\n",
              "      <td>0</td>\n",
              "      <td>93826.63</td>\n",
              "      <td>0</td>\n",
              "    </tr>\n",
              "    <tr>\n",
              "      <th>4</th>\n",
              "      <td>5</td>\n",
              "      <td>15737888</td>\n",
              "      <td>Mitchell</td>\n",
              "      <td>850</td>\n",
              "      <td>Spain</td>\n",
              "      <td>Female</td>\n",
              "      <td>43</td>\n",
              "      <td>2</td>\n",
              "      <td>125510.82</td>\n",
              "      <td>1</td>\n",
              "      <td>1</td>\n",
              "      <td>1</td>\n",
              "      <td>79084.10</td>\n",
              "      <td>0</td>\n",
              "    </tr>\n",
              "  </tbody>\n",
              "</table>\n",
              "</div>"
            ],
            "text/plain": [
              "   RowNumber  CustomerId   Surname  ...  IsActiveMember EstimatedSalary Exited\n",
              "0          1    15634602  Hargrave  ...               1       101348.88      1\n",
              "1          2    15647311      Hill  ...               1       112542.58      0\n",
              "2          3    15619304      Onio  ...               0       113931.57      1\n",
              "3          4    15701354      Boni  ...               0        93826.63      0\n",
              "4          5    15737888  Mitchell  ...               1        79084.10      0\n",
              "\n",
              "[5 rows x 14 columns]"
            ]
          },
          "metadata": {
            "tags": []
          },
          "execution_count": 30
        }
      ]
    },
    {
      "cell_type": "code",
      "metadata": {
        "id": "0C26S6uRH1TF",
        "colab_type": "code",
        "colab": {}
      },
      "source": [
        "X = dataset.iloc[:, 3:13]\n",
        "y = dataset.iloc[:, 13]"
      ],
      "execution_count": null,
      "outputs": []
    },
    {
      "cell_type": "code",
      "metadata": {
        "id": "fjmit32dH1g2",
        "colab_type": "code",
        "colab": {}
      },
      "source": [
        "##Create dummy variables\n",
        "geography=pd.get_dummies(X[\"Geography\"],drop_first=True)\n",
        "gender=pd.get_dummies(X['Gender'],drop_first=True)\n",
        "## Concatenate the Data Frames\n",
        "X=pd.concat([X,geography,gender],axis=1)\n",
        "## Drop Unnecessary columns\n",
        "X=X.drop(['Geography','Gender'],axis=1)"
      ],
      "execution_count": null,
      "outputs": []
    },
    {
      "cell_type": "code",
      "metadata": {
        "id": "BsP1hei_JYPA",
        "colab_type": "code",
        "colab": {}
      },
      "source": [
        "#divide in train test data\n",
        "from sklearn.model_selection import train_test_split\n",
        "X_train,X_test,y_train,y_test = train_test_split(X,y,test_size=0.2,random_state=0)\n"
      ],
      "execution_count": null,
      "outputs": []
    },
    {
      "cell_type": "code",
      "metadata": {
        "id": "sLm4u8H4T_hH",
        "colab_type": "code",
        "colab": {}
      },
      "source": [
        "#scale the data-Feature Scaling\n",
        "from sklearn.preprocessing import StandardScaler\n",
        "scale = StandardScaler()\n",
        "X_train = scale.fit_transform(X_train)\n",
        "X_test = scale.fit_transform(X_test)\n"
      ],
      "execution_count": null,
      "outputs": []
    },
    {
      "cell_type": "code",
      "metadata": {
        "id": "SbwF1S_0UACb",
        "colab_type": "code",
        "colab": {}
      },
      "source": [
        "import keras \n",
        "from keras.models import Sequential\n",
        "from keras.layers import Dense,Dropout"
      ],
      "execution_count": null,
      "outputs": []
    },
    {
      "cell_type": "code",
      "metadata": {
        "id": "mvt8qgpWN_G1",
        "colab_type": "code",
        "colab": {}
      },
      "source": [
        "classifier = Sequential()"
      ],
      "execution_count": null,
      "outputs": []
    },
    {
      "cell_type": "code",
      "metadata": {
        "id": "03LboahTOLNq",
        "colab_type": "code",
        "colab": {}
      },
      "source": [
        "classifier.add(Dense(units=6,kernel_initializer='he_uniform', activation='relu',input_dim=11))\n",
        "classifier.add(Dropout(0.3))\n",
        "classifier.add(Dense(units=6,kernel_initializer='he_uniform', activation='relu'))\n",
        "classifier.add(Dropout(.3))\n",
        "classifier.add(Dense(units=1,kernel_initializer='glorot_uniform', activation='sigmoid'))"
      ],
      "execution_count": null,
      "outputs": []
    },
    {
      "cell_type": "code",
      "metadata": {
        "id": "eUE6uOOcOMru",
        "colab_type": "code",
        "colab": {}
      },
      "source": [
        "classifier.compile(optimizer='adam',loss='binary_crossentropy',metrics=['accuracy'])"
      ],
      "execution_count": null,
      "outputs": []
    },
    {
      "cell_type": "code",
      "metadata": {
        "id": "H5FnCYX4P5BR",
        "colab_type": "code",
        "colab": {
          "base_uri": "https://localhost:8080/",
          "height": 1000
        },
        "outputId": "aacf64fb-8c10-49b0-c913-19157784b7c5"
      },
      "source": [
        "model_history = classifier.fit(X_train,y_train,validation_split=0.33,batch_size=10,epochs=100)"
      ],
      "execution_count": null,
      "outputs": [
        {
          "output_type": "stream",
          "text": [
            "Train on 5359 samples, validate on 2641 samples\n",
            "Epoch 1/100\n",
            "5359/5359 [==============================] - 1s 171us/step - loss: 0.6729 - accuracy: 0.6830 - val_loss: 0.5391 - val_accuracy: 0.7948\n",
            "Epoch 2/100\n",
            "5359/5359 [==============================] - 1s 146us/step - loss: 0.5340 - accuracy: 0.7880 - val_loss: 0.4827 - val_accuracy: 0.7955\n",
            "Epoch 3/100\n",
            "5359/5359 [==============================] - 1s 145us/step - loss: 0.4944 - accuracy: 0.7972 - val_loss: 0.4621 - val_accuracy: 0.7955\n",
            "Epoch 4/100\n",
            "5359/5359 [==============================] - 1s 144us/step - loss: 0.4746 - accuracy: 0.8001 - val_loss: 0.4525 - val_accuracy: 0.7963\n",
            "Epoch 5/100\n",
            "5359/5359 [==============================] - 1s 145us/step - loss: 0.4652 - accuracy: 0.8005 - val_loss: 0.4467 - val_accuracy: 0.7978\n",
            "Epoch 6/100\n",
            "5359/5359 [==============================] - 1s 146us/step - loss: 0.4587 - accuracy: 0.8039 - val_loss: 0.4406 - val_accuracy: 0.7993\n",
            "Epoch 7/100\n",
            "5359/5359 [==============================] - 1s 145us/step - loss: 0.4526 - accuracy: 0.8020 - val_loss: 0.4372 - val_accuracy: 0.7997\n",
            "Epoch 8/100\n",
            "5359/5359 [==============================] - 1s 150us/step - loss: 0.4457 - accuracy: 0.8044 - val_loss: 0.4316 - val_accuracy: 0.8065\n",
            "Epoch 9/100\n",
            "5359/5359 [==============================] - 1s 147us/step - loss: 0.4453 - accuracy: 0.8106 - val_loss: 0.4308 - val_accuracy: 0.8039\n",
            "Epoch 10/100\n",
            "5359/5359 [==============================] - 1s 144us/step - loss: 0.4393 - accuracy: 0.8063 - val_loss: 0.4268 - val_accuracy: 0.8054\n",
            "Epoch 11/100\n",
            "5359/5359 [==============================] - 1s 153us/step - loss: 0.4335 - accuracy: 0.8085 - val_loss: 0.4225 - val_accuracy: 0.8080\n",
            "Epoch 12/100\n",
            "5359/5359 [==============================] - 1s 147us/step - loss: 0.4391 - accuracy: 0.8067 - val_loss: 0.4228 - val_accuracy: 0.8042\n",
            "Epoch 13/100\n",
            "5359/5359 [==============================] - 1s 150us/step - loss: 0.4301 - accuracy: 0.8134 - val_loss: 0.4183 - val_accuracy: 0.8073\n",
            "Epoch 14/100\n",
            "5359/5359 [==============================] - 1s 154us/step - loss: 0.4314 - accuracy: 0.8134 - val_loss: 0.4159 - val_accuracy: 0.8088\n",
            "Epoch 15/100\n",
            "5359/5359 [==============================] - 1s 152us/step - loss: 0.4308 - accuracy: 0.8143 - val_loss: 0.4155 - val_accuracy: 0.8080\n",
            "Epoch 16/100\n",
            "5359/5359 [==============================] - 1s 151us/step - loss: 0.4307 - accuracy: 0.8132 - val_loss: 0.4160 - val_accuracy: 0.8080\n",
            "Epoch 17/100\n",
            "5359/5359 [==============================] - 1s 154us/step - loss: 0.4258 - accuracy: 0.8158 - val_loss: 0.4156 - val_accuracy: 0.8076\n",
            "Epoch 18/100\n",
            "5359/5359 [==============================] - 1s 151us/step - loss: 0.4211 - accuracy: 0.8151 - val_loss: 0.4143 - val_accuracy: 0.8058\n",
            "Epoch 19/100\n",
            "5359/5359 [==============================] - 1s 148us/step - loss: 0.4231 - accuracy: 0.8149 - val_loss: 0.4108 - val_accuracy: 0.8069\n",
            "Epoch 20/100\n",
            "5359/5359 [==============================] - 1s 152us/step - loss: 0.4212 - accuracy: 0.8196 - val_loss: 0.4129 - val_accuracy: 0.8076\n",
            "Epoch 21/100\n",
            "5359/5359 [==============================] - 1s 154us/step - loss: 0.4147 - accuracy: 0.8171 - val_loss: 0.4061 - val_accuracy: 0.8145\n",
            "Epoch 22/100\n",
            "5359/5359 [==============================] - 1s 152us/step - loss: 0.4196 - accuracy: 0.8207 - val_loss: 0.4075 - val_accuracy: 0.8141\n",
            "Epoch 23/100\n",
            "5359/5359 [==============================] - 1s 150us/step - loss: 0.4145 - accuracy: 0.8192 - val_loss: 0.4024 - val_accuracy: 0.8164\n",
            "Epoch 24/100\n",
            "5359/5359 [==============================] - 1s 154us/step - loss: 0.4148 - accuracy: 0.8203 - val_loss: 0.4037 - val_accuracy: 0.8152\n",
            "Epoch 25/100\n",
            "5359/5359 [==============================] - 1s 150us/step - loss: 0.4133 - accuracy: 0.8238 - val_loss: 0.4006 - val_accuracy: 0.8186\n",
            "Epoch 26/100\n",
            "5359/5359 [==============================] - 1s 151us/step - loss: 0.4041 - accuracy: 0.8281 - val_loss: 0.3964 - val_accuracy: 0.8201\n",
            "Epoch 27/100\n",
            "5359/5359 [==============================] - 1s 150us/step - loss: 0.4091 - accuracy: 0.8261 - val_loss: 0.3972 - val_accuracy: 0.8220\n",
            "Epoch 28/100\n",
            "5359/5359 [==============================] - 1s 151us/step - loss: 0.4040 - accuracy: 0.8261 - val_loss: 0.3964 - val_accuracy: 0.8205\n",
            "Epoch 29/100\n",
            "5359/5359 [==============================] - 1s 152us/step - loss: 0.4080 - accuracy: 0.8225 - val_loss: 0.3955 - val_accuracy: 0.8213\n",
            "Epoch 30/100\n",
            "5359/5359 [==============================] - 1s 151us/step - loss: 0.3996 - accuracy: 0.8302 - val_loss: 0.3947 - val_accuracy: 0.8236\n",
            "Epoch 31/100\n",
            "5359/5359 [==============================] - 1s 154us/step - loss: 0.4026 - accuracy: 0.8296 - val_loss: 0.3959 - val_accuracy: 0.8236\n",
            "Epoch 32/100\n",
            "5359/5359 [==============================] - 1s 147us/step - loss: 0.4075 - accuracy: 0.8248 - val_loss: 0.3933 - val_accuracy: 0.8266\n",
            "Epoch 33/100\n",
            "5359/5359 [==============================] - 1s 151us/step - loss: 0.4034 - accuracy: 0.8332 - val_loss: 0.3941 - val_accuracy: 0.8270\n",
            "Epoch 34/100\n",
            "5359/5359 [==============================] - 1s 154us/step - loss: 0.4033 - accuracy: 0.8276 - val_loss: 0.3966 - val_accuracy: 0.8220\n",
            "Epoch 35/100\n",
            "5359/5359 [==============================] - 1s 157us/step - loss: 0.4038 - accuracy: 0.8300 - val_loss: 0.3928 - val_accuracy: 0.8273\n",
            "Epoch 36/100\n",
            "5359/5359 [==============================] - 1s 147us/step - loss: 0.4000 - accuracy: 0.8300 - val_loss: 0.3909 - val_accuracy: 0.8285\n",
            "Epoch 37/100\n",
            "5359/5359 [==============================] - 1s 151us/step - loss: 0.4061 - accuracy: 0.8291 - val_loss: 0.3953 - val_accuracy: 0.8266\n",
            "Epoch 38/100\n",
            "5359/5359 [==============================] - 1s 151us/step - loss: 0.4056 - accuracy: 0.8263 - val_loss: 0.3912 - val_accuracy: 0.8277\n",
            "Epoch 39/100\n",
            "5359/5359 [==============================] - 1s 155us/step - loss: 0.4105 - accuracy: 0.8266 - val_loss: 0.3925 - val_accuracy: 0.8289\n",
            "Epoch 40/100\n",
            "5359/5359 [==============================] - 1s 151us/step - loss: 0.4057 - accuracy: 0.8255 - val_loss: 0.3956 - val_accuracy: 0.8254\n",
            "Epoch 41/100\n",
            "5359/5359 [==============================] - 1s 157us/step - loss: 0.3992 - accuracy: 0.8317 - val_loss: 0.3956 - val_accuracy: 0.8254\n",
            "Epoch 42/100\n",
            "5359/5359 [==============================] - 1s 152us/step - loss: 0.4015 - accuracy: 0.8281 - val_loss: 0.3957 - val_accuracy: 0.8251\n",
            "Epoch 43/100\n",
            "5359/5359 [==============================] - 1s 154us/step - loss: 0.4003 - accuracy: 0.8272 - val_loss: 0.3897 - val_accuracy: 0.8349\n",
            "Epoch 44/100\n",
            "5359/5359 [==============================] - 1s 155us/step - loss: 0.4021 - accuracy: 0.8302 - val_loss: 0.3911 - val_accuracy: 0.8338\n",
            "Epoch 45/100\n",
            "5359/5359 [==============================] - 1s 152us/step - loss: 0.4046 - accuracy: 0.8285 - val_loss: 0.3915 - val_accuracy: 0.8319\n",
            "Epoch 46/100\n",
            "5359/5359 [==============================] - 1s 152us/step - loss: 0.3944 - accuracy: 0.8272 - val_loss: 0.3929 - val_accuracy: 0.8289\n",
            "Epoch 47/100\n",
            "5359/5359 [==============================] - 1s 150us/step - loss: 0.3968 - accuracy: 0.8336 - val_loss: 0.3922 - val_accuracy: 0.8296\n",
            "Epoch 48/100\n",
            "5359/5359 [==============================] - 1s 152us/step - loss: 0.4007 - accuracy: 0.8280 - val_loss: 0.3924 - val_accuracy: 0.8277\n",
            "Epoch 49/100\n",
            "5359/5359 [==============================] - 1s 152us/step - loss: 0.4019 - accuracy: 0.8302 - val_loss: 0.3938 - val_accuracy: 0.8285\n",
            "Epoch 50/100\n",
            "5359/5359 [==============================] - 1s 152us/step - loss: 0.4007 - accuracy: 0.8326 - val_loss: 0.3916 - val_accuracy: 0.8300\n",
            "Epoch 51/100\n",
            "5359/5359 [==============================] - 1s 152us/step - loss: 0.4007 - accuracy: 0.8339 - val_loss: 0.3933 - val_accuracy: 0.8281\n",
            "Epoch 52/100\n",
            "5359/5359 [==============================] - 1s 151us/step - loss: 0.4000 - accuracy: 0.8324 - val_loss: 0.3904 - val_accuracy: 0.8323\n",
            "Epoch 53/100\n",
            "5359/5359 [==============================] - 1s 152us/step - loss: 0.3968 - accuracy: 0.8354 - val_loss: 0.3889 - val_accuracy: 0.8330\n",
            "Epoch 54/100\n",
            "5359/5359 [==============================] - 1s 152us/step - loss: 0.4001 - accuracy: 0.8304 - val_loss: 0.3890 - val_accuracy: 0.8323\n",
            "Epoch 55/100\n",
            "5359/5359 [==============================] - 1s 153us/step - loss: 0.3936 - accuracy: 0.8319 - val_loss: 0.3908 - val_accuracy: 0.8311\n",
            "Epoch 56/100\n",
            "5359/5359 [==============================] - 1s 152us/step - loss: 0.3950 - accuracy: 0.8328 - val_loss: 0.3906 - val_accuracy: 0.8292\n",
            "Epoch 57/100\n",
            "5359/5359 [==============================] - 1s 150us/step - loss: 0.4019 - accuracy: 0.8308 - val_loss: 0.3899 - val_accuracy: 0.8311\n",
            "Epoch 58/100\n",
            "5359/5359 [==============================] - 1s 156us/step - loss: 0.3989 - accuracy: 0.8336 - val_loss: 0.3873 - val_accuracy: 0.8323\n",
            "Epoch 59/100\n",
            "5359/5359 [==============================] - 1s 151us/step - loss: 0.4034 - accuracy: 0.8255 - val_loss: 0.3954 - val_accuracy: 0.8273\n",
            "Epoch 60/100\n",
            "5359/5359 [==============================] - 1s 151us/step - loss: 0.3971 - accuracy: 0.8378 - val_loss: 0.3883 - val_accuracy: 0.8330\n",
            "Epoch 61/100\n",
            "5359/5359 [==============================] - 1s 152us/step - loss: 0.4013 - accuracy: 0.8259 - val_loss: 0.3936 - val_accuracy: 0.8254\n",
            "Epoch 62/100\n",
            "5359/5359 [==============================] - 1s 151us/step - loss: 0.3946 - accuracy: 0.8326 - val_loss: 0.3866 - val_accuracy: 0.8349\n",
            "Epoch 63/100\n",
            "5359/5359 [==============================] - 1s 152us/step - loss: 0.4038 - accuracy: 0.8293 - val_loss: 0.3895 - val_accuracy: 0.8304\n",
            "Epoch 64/100\n",
            "5359/5359 [==============================] - 1s 151us/step - loss: 0.3970 - accuracy: 0.8315 - val_loss: 0.3914 - val_accuracy: 0.8285\n",
            "Epoch 65/100\n",
            "5359/5359 [==============================] - 1s 154us/step - loss: 0.3994 - accuracy: 0.8341 - val_loss: 0.3899 - val_accuracy: 0.8342\n",
            "Epoch 66/100\n",
            "5359/5359 [==============================] - 1s 152us/step - loss: 0.4030 - accuracy: 0.8259 - val_loss: 0.3913 - val_accuracy: 0.8311\n",
            "Epoch 67/100\n",
            "5359/5359 [==============================] - 1s 151us/step - loss: 0.3953 - accuracy: 0.8298 - val_loss: 0.3861 - val_accuracy: 0.8345\n",
            "Epoch 68/100\n",
            "5359/5359 [==============================] - 1s 148us/step - loss: 0.4079 - accuracy: 0.8261 - val_loss: 0.3876 - val_accuracy: 0.8315\n",
            "Epoch 69/100\n",
            "5359/5359 [==============================] - 1s 150us/step - loss: 0.3942 - accuracy: 0.8345 - val_loss: 0.3897 - val_accuracy: 0.8330\n",
            "Epoch 70/100\n",
            "5359/5359 [==============================] - 1s 154us/step - loss: 0.3980 - accuracy: 0.8352 - val_loss: 0.3904 - val_accuracy: 0.8315\n",
            "Epoch 71/100\n",
            "5359/5359 [==============================] - 1s 151us/step - loss: 0.3976 - accuracy: 0.8334 - val_loss: 0.3889 - val_accuracy: 0.8330\n",
            "Epoch 72/100\n",
            "5359/5359 [==============================] - 1s 150us/step - loss: 0.4080 - accuracy: 0.8225 - val_loss: 0.3985 - val_accuracy: 0.8190\n",
            "Epoch 73/100\n",
            "5359/5359 [==============================] - 1s 152us/step - loss: 0.3996 - accuracy: 0.8326 - val_loss: 0.3921 - val_accuracy: 0.8304\n",
            "Epoch 74/100\n",
            "5359/5359 [==============================] - 1s 152us/step - loss: 0.4023 - accuracy: 0.8257 - val_loss: 0.3907 - val_accuracy: 0.8307\n",
            "Epoch 75/100\n",
            "5359/5359 [==============================] - 1s 156us/step - loss: 0.3946 - accuracy: 0.8326 - val_loss: 0.3854 - val_accuracy: 0.8315\n",
            "Epoch 76/100\n",
            "5359/5359 [==============================] - 1s 155us/step - loss: 0.3924 - accuracy: 0.8302 - val_loss: 0.3891 - val_accuracy: 0.8323\n",
            "Epoch 77/100\n",
            "5359/5359 [==============================] - 1s 154us/step - loss: 0.3973 - accuracy: 0.8365 - val_loss: 0.3908 - val_accuracy: 0.8292\n",
            "Epoch 78/100\n",
            "5359/5359 [==============================] - 1s 151us/step - loss: 0.3962 - accuracy: 0.8300 - val_loss: 0.3912 - val_accuracy: 0.8270\n",
            "Epoch 79/100\n",
            "5359/5359 [==============================] - 1s 154us/step - loss: 0.3893 - accuracy: 0.8377 - val_loss: 0.3847 - val_accuracy: 0.8345\n",
            "Epoch 80/100\n",
            "5359/5359 [==============================] - 1s 151us/step - loss: 0.3897 - accuracy: 0.8358 - val_loss: 0.3866 - val_accuracy: 0.8357\n",
            "Epoch 81/100\n",
            "5359/5359 [==============================] - 1s 157us/step - loss: 0.3876 - accuracy: 0.8388 - val_loss: 0.3874 - val_accuracy: 0.8345\n",
            "Epoch 82/100\n",
            "5359/5359 [==============================] - 1s 157us/step - loss: 0.3971 - accuracy: 0.8362 - val_loss: 0.3853 - val_accuracy: 0.8379\n",
            "Epoch 83/100\n",
            "5359/5359 [==============================] - 1s 154us/step - loss: 0.4022 - accuracy: 0.8334 - val_loss: 0.3957 - val_accuracy: 0.8201\n",
            "Epoch 84/100\n",
            "5359/5359 [==============================] - 1s 158us/step - loss: 0.3948 - accuracy: 0.8390 - val_loss: 0.3892 - val_accuracy: 0.8353\n",
            "Epoch 85/100\n",
            "5359/5359 [==============================] - 1s 154us/step - loss: 0.3901 - accuracy: 0.8352 - val_loss: 0.3827 - val_accuracy: 0.8364\n",
            "Epoch 86/100\n",
            "5359/5359 [==============================] - 1s 153us/step - loss: 0.3965 - accuracy: 0.8330 - val_loss: 0.3876 - val_accuracy: 0.8315\n",
            "Epoch 87/100\n",
            "5359/5359 [==============================] - 1s 158us/step - loss: 0.3973 - accuracy: 0.8369 - val_loss: 0.3906 - val_accuracy: 0.8266\n",
            "Epoch 88/100\n",
            "5359/5359 [==============================] - 1s 159us/step - loss: 0.3920 - accuracy: 0.8375 - val_loss: 0.3879 - val_accuracy: 0.8319\n",
            "Epoch 89/100\n",
            "5359/5359 [==============================] - 1s 157us/step - loss: 0.3957 - accuracy: 0.8322 - val_loss: 0.3895 - val_accuracy: 0.8296\n",
            "Epoch 90/100\n",
            "5359/5359 [==============================] - 1s 157us/step - loss: 0.3939 - accuracy: 0.8324 - val_loss: 0.3897 - val_accuracy: 0.8307\n",
            "Epoch 91/100\n",
            "5359/5359 [==============================] - 1s 155us/step - loss: 0.3918 - accuracy: 0.8330 - val_loss: 0.3861 - val_accuracy: 0.8353\n",
            "Epoch 92/100\n",
            "5359/5359 [==============================] - 1s 156us/step - loss: 0.3967 - accuracy: 0.8356 - val_loss: 0.3877 - val_accuracy: 0.8342\n",
            "Epoch 93/100\n",
            "5359/5359 [==============================] - 1s 156us/step - loss: 0.3917 - accuracy: 0.8369 - val_loss: 0.3907 - val_accuracy: 0.8281\n",
            "Epoch 94/100\n",
            "5359/5359 [==============================] - 1s 158us/step - loss: 0.3916 - accuracy: 0.8371 - val_loss: 0.3867 - val_accuracy: 0.8376\n",
            "Epoch 95/100\n",
            "5359/5359 [==============================] - 1s 152us/step - loss: 0.3958 - accuracy: 0.8336 - val_loss: 0.3846 - val_accuracy: 0.8364\n",
            "Epoch 96/100\n",
            "5359/5359 [==============================] - 1s 154us/step - loss: 0.3946 - accuracy: 0.8373 - val_loss: 0.3911 - val_accuracy: 0.8277\n",
            "Epoch 97/100\n",
            "5359/5359 [==============================] - 1s 153us/step - loss: 0.3864 - accuracy: 0.8384 - val_loss: 0.3856 - val_accuracy: 0.8353\n",
            "Epoch 98/100\n",
            "5359/5359 [==============================] - 1s 152us/step - loss: 0.3909 - accuracy: 0.8380 - val_loss: 0.3873 - val_accuracy: 0.8342\n",
            "Epoch 99/100\n",
            "5359/5359 [==============================] - 1s 152us/step - loss: 0.3858 - accuracy: 0.8375 - val_loss: 0.3884 - val_accuracy: 0.8266\n",
            "Epoch 100/100\n",
            "5359/5359 [==============================] - 1s 149us/step - loss: 0.3882 - accuracy: 0.8401 - val_loss: 0.3868 - val_accuracy: 0.8315\n"
          ],
          "name": "stdout"
        }
      ]
    },
    {
      "cell_type": "code",
      "metadata": {
        "id": "qH4Gcv_LR0_z",
        "colab_type": "code",
        "colab": {}
      },
      "source": [
        "y_pred = classifier.predict(X_test)\n",
        "y_pred = (y_pred>0.5)"
      ],
      "execution_count": null,
      "outputs": []
    },
    {
      "cell_type": "code",
      "metadata": {
        "id": "ENQxa6KiU8v4",
        "colab_type": "code",
        "colab": {}
      },
      "source": [
        "from sklearn.metrics import confusion_matrix,accuracy_score\n",
        "cm = confusion_matrix(y_test,y_pred)\n",
        "score = accuracy_score(y_test,y_pred)"
      ],
      "execution_count": null,
      "outputs": []
    },
    {
      "cell_type": "code",
      "metadata": {
        "id": "M_8HN-xNWkPH",
        "colab_type": "code",
        "colab": {
          "base_uri": "https://localhost:8080/",
          "height": 34
        },
        "outputId": "9b6dec64-ee38-47db-8825-e47b3615a1e1"
      },
      "source": [
        "score"
      ],
      "execution_count": null,
      "outputs": [
        {
          "output_type": "execute_result",
          "data": {
            "text/plain": [
              "0.8305"
            ]
          },
          "metadata": {
            "tags": []
          },
          "execution_count": 42
        }
      ]
    },
    {
      "cell_type": "code",
      "metadata": {
        "id": "jy9NSzzsWwfE",
        "colab_type": "code",
        "colab": {
          "base_uri": "https://localhost:8080/",
          "height": 50
        },
        "outputId": "1a0dab63-24ea-4685-fbf2-d280d3d137a6"
      },
      "source": [
        "cm"
      ],
      "execution_count": null,
      "outputs": [
        {
          "output_type": "execute_result",
          "data": {
            "text/plain": [
              "array([[1582,   13],\n",
              "       [ 326,   79]])"
            ]
          },
          "metadata": {
            "tags": []
          },
          "execution_count": 43
        }
      ]
    },
    {
      "cell_type": "code",
      "metadata": {
        "id": "OSBMoilYYCBg",
        "colab_type": "code",
        "colab": {}
      },
      "source": [
        ""
      ],
      "execution_count": null,
      "outputs": []
    }
  ]
}